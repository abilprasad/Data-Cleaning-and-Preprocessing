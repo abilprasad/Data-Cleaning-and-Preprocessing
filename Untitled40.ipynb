{
  "nbformat": 4,
  "nbformat_minor": 0,
  "metadata": {
    "colab": {
      "provenance": []
    },
    "kernelspec": {
      "name": "python3",
      "display_name": "Python 3"
    },
    "language_info": {
      "name": "python"
    }
  },
  "cells": [
    {
      "cell_type": "code",
      "execution_count": 2,
      "metadata": {
        "id": "_EQAUaB-7iKO",
        "colab": {
          "base_uri": "https://localhost:8080/"
        },
        "outputId": "85944f10-4d44-4c48-e1e0-19bf81468ed6"
      },
      "outputs": [
        {
          "output_type": "stream",
          "name": "stdout",
          "text": [
            "\n",
            "--- Missing values before cleaning ---\n",
            "CustomerID                0\n",
            "Gender                    0\n",
            "Age                       0\n",
            "Annual Income (k$)        0\n",
            "Spending Score (1-100)    0\n",
            "dtype: int64\n",
            "\n",
            "--- Data types after cleaning ---\n",
            "customerid                  int64\n",
            "gender                     object\n",
            "age                         int64\n",
            "annual_income_(k$)        float64\n",
            "spending_score_(1-100)      int64\n",
            "dtype: object\n",
            "\n",
            "--- Missing values after cleaning ---\n",
            "customerid                0\n",
            "gender                    0\n",
            "age                       0\n",
            "annual_income_(k$)        0\n",
            "spending_score_(1-100)    0\n",
            "dtype: int64\n",
            "\n",
            "Cleaned file saved as 'Mall_Customers_Cleaned.xlsx'\n"
          ]
        },
        {
          "output_type": "stream",
          "name": "stderr",
          "text": [
            "/tmp/ipython-input-510726650.py:13: FutureWarning: A value is trying to be set on a copy of a DataFrame or Series through chained assignment using an inplace method.\n",
            "The behavior will change in pandas 3.0. This inplace method will never work because the intermediate object on which we are setting values always behaves as a copy.\n",
            "\n",
            "For example, when doing 'df[col].method(value, inplace=True)', try using 'df.method({col: value}, inplace=True)' or df[col] = df[col].method(value) instead, to perform the operation inplace on the original object.\n",
            "\n",
            "\n",
            "  df[col].fillna(df[col].mean(), inplace=True)\n",
            "/tmp/ipython-input-510726650.py:11: FutureWarning: A value is trying to be set on a copy of a DataFrame or Series through chained assignment using an inplace method.\n",
            "The behavior will change in pandas 3.0. This inplace method will never work because the intermediate object on which we are setting values always behaves as a copy.\n",
            "\n",
            "For example, when doing 'df[col].method(value, inplace=True)', try using 'df.method({col: value}, inplace=True)' or df[col] = df[col].method(value) instead, to perform the operation inplace on the original object.\n",
            "\n",
            "\n",
            "  df[col].fillna(df[col].mode()[0], inplace=True)\n"
          ]
        }
      ],
      "source": [
        "\n",
        "\n",
        "import pandas as pd\n",
        "\n",
        "df = pd.read_excel(\"/content/Mall_Customers.xlsx\")\n",
        "\n",
        "\n",
        "print(\"\\n--- Missing values before cleaning ---\")\n",
        "print(df.isnull().sum())\n",
        "\n",
        "for col in df.columns:\n",
        "    if df[col].dtype == \"object\":\n",
        "        df[col].fillna(df[col].mode()[0], inplace=True)\n",
        "    else:\n",
        "        df[col].fillna(df[col].mean(), inplace=True)\n",
        "\n",
        "df.drop_duplicates(inplace=True)\n",
        "\n",
        "if \"Gender\" in df.columns:\n",
        "    df[\"Gender\"] = df[\"Gender\"].str.strip().str.capitalize()\n",
        "\n",
        "for col in df.columns:\n",
        "    if \"date\" in col.lower():\n",
        "        df[col] = pd.to_datetime(df[col], errors=\"coerce\")\n",
        "        df[col] = df[col].dt.strftime(\"%d-%m-%Y\")\n",
        "\n",
        "df.columns = [col.strip().lower().replace(\" \", \"_\") for col in df.columns]\n",
        "\n",
        "\n",
        "if \"age\" in df.columns:\n",
        "    df[\"age\"] = df[\"age\"].astype(int)\n",
        "\n",
        "if \"annual_income_(k$)\" in df.columns:\n",
        "    df[\"annual_income_(k$)\"] = df[\"annual_income_(k$)\"].astype(float)\n",
        "\n",
        "if \"spending_score_(1-100)\" in df.columns:\n",
        "    df[\"spending_score_(1-100)\"] = df[\"spending_score_(1-100)\"].astype(int)\n",
        "\n",
        "print(\"\\n--- Data types after cleaning ---\")\n",
        "print(df.dtypes)\n",
        "\n",
        "print(\"\\n--- Missing values after cleaning ---\")\n",
        "print(df.isnull().sum())\n",
        "\n",
        "output_file = \"Mall_Customers_Cleaned.xlsx\"\n",
        "df.to_excel(output_file, index=False)\n",
        "print(f\"\\nCleaned file saved as '{output_file}'\")\n"
      ]
    }
  ]
}